{
 "cells": [
  {
   "cell_type": "markdown",
   "metadata": {},
   "source": [
    "**Bài tập 2.1:**\n",
    "- Khởi tạo biến `savings` có giá trị bằng 1000\n",
    "- In ra giá trị của biến `savings`"
   ]
  },
  {
   "cell_type": "code",
   "execution_count": 1,
   "metadata": {},
   "outputs": [
    {
     "name": "stdout",
     "output_type": "stream",
     "text": [
      "1000\n"
     ]
    }
   ],
   "source": [
    "# Khởi tạo biến savings có giá trị bằng 1000\n",
    "\n",
    "savings = 1000\n",
    "# In ra giá trị của biến savings\n",
    "\n",
    "print(savings)"
   ]
  },
  {
   "cell_type": "markdown",
   "metadata": {},
   "source": [
    "**Bài tập 2.2:**"
   ]
  },
  {
   "cell_type": "code",
   "execution_count": 4,
   "metadata": {},
   "outputs": [
    {
     "name": "stdout",
     "output_type": "stream",
     "text": [
      "4177.248169415656\n"
     ]
    }
   ],
   "source": [
    "# Khởi tạo biến savings\n",
    "\n",
    "savings = 1000\n",
    "# Khởi tạo biến factor biểu diễn lãi suất ngân hàng\n",
    "\n",
    "factor = 1.1\n",
    "# Tính toán số tiền và gán giá trị vào biến result\n",
    "\n",
    "result = savings*factor**15\n",
    "# In ra giá trị của result\n",
    "print(result)"
   ]
  },
  {
   "cell_type": "markdown",
   "metadata": {},
   "source": [
    "**Bài tập 2.3:**"
   ]
  },
  {
   "cell_type": "code",
   "execution_count": 22,
   "metadata": {
    "scrolled": true
   },
   "outputs": [
    {
     "name": "stdout",
     "output_type": "stream",
     "text": [
      "<class 'str'>\n"
     ]
    }
   ],
   "source": [
    "# Tạo biến desc\n",
    "desc = 'Data Science'\n",
    "\n",
    "# Tạo biến profitable\n",
    "profitable = True\n",
    "\n"
   ]
  },
  {
   "cell_type": "code",
   "execution_count": 23,
   "metadata": {},
   "outputs": [
    {
     "name": "stdout",
     "output_type": "stream",
     "text": [
      "<class 'int'>\n",
      "<class 'float'>\n",
      "<class 'str'>\n",
      "<class 'bool'>\n"
     ]
    }
   ],
   "source": [
    "# In ra kiểu dữ liệu của biến savings\n",
    "print(type(savings))\n",
    "\n",
    "# In ra kiểu dữ liệu của biến factor\n",
    "print(type(factor))\n",
    "\n",
    "# In ra kiểu dữ liệu của biến desc\n",
    "print(type(desc))\n",
    "\n",
    "# In ra kiểu dữ liệu của biến profitable\n",
    "print(type(profitable))\n"
   ]
  },
  {
   "cell_type": "markdown",
   "metadata": {},
   "source": [
    "**Bài tập 2.4:**"
   ]
  },
  {
   "cell_type": "code",
   "execution_count": 24,
   "metadata": {},
   "outputs": [
    {
     "name": "stdout",
     "output_type": "stream",
     "text": [
      "<class 'float'>\n",
      "<class 'str'>\n"
     ]
    }
   ],
   "source": [
    "# Các biến đã được khai báo sẵn cho bạn\n",
    "savings = 1000\n",
    "factor = 1.10\n",
    "desc = \"Data Science\"\n",
    "\n",
    "# Tính tích của savings và factor, lưu kết quả vào year1\n",
    "year1 = savings*factor\n",
    "\n",
    "# In ra kiểu dữ liệu của year1\n",
    "print(type(year1))\n",
    "\n",
    "# Tính tổng của desc và desc rồi lưu kết quả vào doubledesc\n",
    "doubledesc = desc+desc\n",
    "\n",
    "# In ra doubledesc\n",
    "print(type(doubledesc))\n"
   ]
  },
  {
   "cell_type": "markdown",
   "metadata": {},
   "source": [
    "**Bài tập 2.5:**"
   ]
  },
  {
   "cell_type": "code",
   "execution_count": 27,
   "metadata": {},
   "outputs": [
    {
     "name": "stdout",
     "output_type": "stream",
     "text": [
      "Tôi gửi ngân hàng $1000, sau 15 năm, bây giờ tôi đã có $4177.248169415656. Tuyệt vời!\n",
      "<class 'float'>\n"
     ]
    }
   ],
   "source": [
    "# Khai báo biến savings và result\n",
    "savings = 1000\n",
    "result = 1000 * 1.10 ** 15\n",
    "\n",
    "# Sửa lại lệnh in dưới đây cho đúng\n",
    "print(\"Tôi gửi ngân hàng $\" + str(savings) + \", sau 15 năm, bây giờ tôi đã có $\" + str(result) + \". Tuyệt vời!\")\n",
    "\n",
    "# Khai báo pi_string\n",
    "pi_string = \"3.1415926\"\n",
    "\n",
    "# Chuyển pi_string sang float: pi_float\n",
    "pi_string = float(pi_string)\n",
    "print(type(pi_string))"
   ]
  },
  {
   "cell_type": "markdown",
   "metadata": {},
   "source": [
    "**Bài tập 3.1:**"
   ]
  },
  {
   "cell_type": "code",
   "execution_count": 28,
   "metadata": {},
   "outputs": [
    {
     "name": "stdout",
     "output_type": "stream",
     "text": [
      "[11.25, 18.0, 20.0, 10.75, 9.5]\n"
     ]
    }
   ],
   "source": [
    "# các biến thể hiện diện tích các phòng (m2)\n",
    "hall = 11.25\n",
    "kit = 18.0\n",
    "liv = 20.0\n",
    "bed = 10.75\n",
    "bath = 9.50\n",
    "\n",
    "# khởi tạo danh sách areas\n",
    "areas = [hall, kit, liv, bed, bath]\n",
    "\n",
    "# in ra areas\n",
    "print(areas)\n"
   ]
  },
  {
   "cell_type": "markdown",
   "metadata": {},
   "source": [
    "**Bài tập 3.2:**"
   ]
  },
  {
   "cell_type": "code",
   "execution_count": 31,
   "metadata": {},
   "outputs": [
    {
     "name": "stdout",
     "output_type": "stream",
     "text": [
      "['hallway', 11.25, 'kitchen', 18.0, 'living room', 20.0, 'bedroom', 10.75, 'bathroom', 9.5]\n"
     ]
    }
   ],
   "source": [
    "# các biến thể hiện diện tích các phòng (m2)\n",
    "hall = 11.25\n",
    "kit = 18.0\n",
    "liv = 20.0\n",
    "bed = 10.75\n",
    "bath = 9.50\n",
    "\n",
    "# sửa lại dòng khởi tạo danh sách areas\n",
    "areas = [\"hallway\",hall ,\"kitchen\", kit, \"living room\", liv,\"bedroom\", bed, \"bathroom\", bath]\n",
    "\n",
    "# in ra areas\n",
    "print(areas)\n"
   ]
  },
  {
   "cell_type": "markdown",
   "metadata": {},
   "source": [
    "**Bài tập 3.3:**"
   ]
  },
  {
   "cell_type": "code",
   "execution_count": 32,
   "metadata": {},
   "outputs": [
    {
     "name": "stdout",
     "output_type": "stream",
     "text": [
      "[['hallway', 11.25], ['kitchen', 18.0], ['living room', 20.0], ['bedroom', 10.75], ['bathroom', 9.5]]\n",
      "<class 'list'>\n"
     ]
    }
   ],
   "source": [
    "# các biến thể hiện diện tích các phòng (m2)\n",
    "hall = 11.25\n",
    "kit = 18.0\n",
    "liv = 20.0\n",
    "bed = 10.75\n",
    "bath = 9.50\n",
    "\n",
    "# thông tin về ngôi nhà, biểu diễn bởi danh sách của các danh sách\n",
    "house = [[\"hallway\", hall],\n",
    "         [\"kitchen\", kit],\n",
    "         [\"living room\", liv],\n",
    "         [\"bedroom\", bed],\n",
    "         [\"bathroom\", bath]]\n",
    "\n",
    "# in ra giá trị của house\n",
    "print(house)\n",
    "\n",
    "# in ra kiểu dữ liệu của house\n",
    "print(type(house))\n"
   ]
  },
  {
   "cell_type": "markdown",
   "metadata": {},
   "source": [
    "**Bài tập 4.1:**"
   ]
  },
  {
   "cell_type": "code",
   "execution_count": 35,
   "metadata": {},
   "outputs": [
    {
     "name": "stdout",
     "output_type": "stream",
     "text": [
      "11.25\n",
      "9.5\n",
      "20.0\n"
     ]
    }
   ],
   "source": [
    "# khởi tạo danh sách areas\n",
    "areas = [\"hallway\", 11.25, \"kitchen\", 18.0, \"living room\", 20.0, \"bedroom\", 10.75, \"bathroom\", 9.50]\n",
    "\n",
    "# in ra phần tử thứ hai của areas\n",
    "print(areas[1])\n",
    "\n",
    "# in ra phần tử cuối cùng của areas\n",
    "print(areas[-1])\n",
    "\n",
    "# in ra diện tích của phòng khách (living room)\n",
    "print(areas[5])\n"
   ]
  },
  {
   "cell_type": "markdown",
   "metadata": {},
   "source": [
    "**Bài tập 4.2:**"
   ]
  },
  {
   "cell_type": "code",
   "execution_count": 36,
   "metadata": {},
   "outputs": [
    {
     "name": "stdout",
     "output_type": "stream",
     "text": [
      "28.75\n"
     ]
    }
   ],
   "source": [
    "# khởi tạo\n",
    "areas = [\"hallway\", 11.25, \"kitchen\", 18.0, \"living room\", 20.0, \"bedroom\", 10.75, \"bathroom\", 9.50]\n",
    "\n",
    "# tổng diện tích của kitchen và bedroom: eat_sleep_area\n",
    "eat_sleep_area = areas[3] + areas[7]\n",
    "\n",
    "# in ra giá trị của eat_sleep_area\n",
    "print(eat_sleep_area)\n"
   ]
  },
  {
   "cell_type": "markdown",
   "metadata": {},
   "source": [
    "**Bài tập 4.3:**"
   ]
  },
  {
   "cell_type": "code",
   "execution_count": 39,
   "metadata": {},
   "outputs": [
    {
     "name": "stdout",
     "output_type": "stream",
     "text": [
      "['hallway', 11.25, 'kitchen', 18.0, 'living room', 20.0]\n",
      "['bedroom', 10.75, 'bathroom', 9.5]\n"
     ]
    }
   ],
   "source": [
    "# khởi tạo\n",
    "areas = [\"hallway\", 11.25, \"kitchen\", 18.0, \"living room\", 20.0, \"bedroom\", 10.75, \"bathroom\", 9.50]\n",
    "\n",
    "# trích xuất các phần tử của areas để khởi tạo downstairs\n",
    "downstairs = areas[0:6]\n",
    "\n",
    "# trích xuất các phần tử của areas để khởi tạo upstairs\n",
    "upstairs = areas[6:10]\n",
    "\n",
    "# in ra downstairs và upstairs\n",
    "print(downstairs)\n",
    "print(upstairs)\n"
   ]
  },
  {
   "cell_type": "markdown",
   "metadata": {},
   "source": [
    "**Bài tập 4.4:**"
   ]
  },
  {
   "cell_type": "code",
   "execution_count": 40,
   "metadata": {},
   "outputs": [
    {
     "name": "stdout",
     "output_type": "stream",
     "text": [
      "['hallway', 11.25, 'kitchen', 18.0, 'living room', 20.0]\n",
      "['bedroom', 10.75, 'bathroom', 9.5]\n"
     ]
    }
   ],
   "source": [
    "# khởi tạo\n",
    "areas = [\"hallway\", 11.25, \"kitchen\", 18.0, \"living room\", 20.0, \"bedroom\", 10.75, \"bathroom\", 9.50]\n",
    "\n",
    "# trích xuất các phần tử của areas để khởi tạo downstairs (cách 2)\n",
    "downstairs = areas[:6]\n",
    "\n",
    "# trích xuất các phần tử của areas để khởi tạo upstairs (cách 2)\n",
    "upstairs = areas[6:]\n",
    "\n",
    "# in ra downstairs và upstairs\n",
    "print(downstairs)\n",
    "print(upstairs)\n"
   ]
  },
  {
   "cell_type": "markdown",
   "metadata": {},
   "source": [
    "**Bài tập 5.1:**"
   ]
  },
  {
   "cell_type": "code",
   "execution_count": 41,
   "metadata": {},
   "outputs": [
    {
     "name": "stdout",
     "output_type": "stream",
     "text": [
      "['hallway', 11.25, 'kitchen', 18.0, 'chill zone', 20.0, 'bedroom', 10.75, 'bathroom', 10.5]\n"
     ]
    }
   ],
   "source": [
    "# khởi tạo\n",
    "areas = [\"hallway\", 11.25, \"kitchen\", 18.0, \"living room\", 20.0, \"bedroom\", 10.75, \"bathroom\", 9.50]\n",
    "\n",
    "# sửa lại diện tích của phòng tắm (bathroom)\n",
    "areas[9] = 10.50\n",
    "\n",
    "# sửa \"living room\" thành \"chill zone\"\n",
    "areas[4] = \"chill zone\"\n",
    "\n",
    "# in ra areas\n",
    "print(areas)\n"
   ]
  },
  {
   "cell_type": "markdown",
   "metadata": {},
   "source": [
    "**Bài tập 5.2:**"
   ]
  },
  {
   "cell_type": "code",
   "execution_count": 42,
   "metadata": {},
   "outputs": [
    {
     "name": "stdout",
     "output_type": "stream",
     "text": [
      "['hallway', 11.25, 'kitchen', 18.0, 'chill zone', 20.0, 'bedroom', 10.75, 'bathroom', 10.5, 'poolhouse', 24.5]\n",
      "['hallway', 11.25, 'kitchen', 18.0, 'chill zone', 20.0, 'bedroom', 10.75, 'bathroom', 10.5, 'poolhouse', 24.5, 'garage', 15.45]\n"
     ]
    }
   ],
   "source": [
    "# khởi tạo\n",
    "areas = [\"hallway\", 11.25, \"kitchen\", 18.0, \"chill zone\", 20.0,\n",
    "         \"bedroom\", 10.75, \"bathroom\", 10.50]\n",
    "\n",
    "# thêm dữ liệu của poolhouse vào areas, tạo danh sách mới tên areas_1\n",
    "areas_1 = areas + [\"poolhouse\", 24.5]\n",
    "\n",
    "# thêm dữ liệu của garage vào areas_1, tạo danh sách mới tên areas_2\n",
    "areas_2 = areas_1 + [\"garage\", 15.45]\n",
    "\n",
    "# in ra areas_1 và areas_2\n",
    "print(areas_1)\n",
    "print(areas_2)\n"
   ]
  },
  {
   "cell_type": "markdown",
   "metadata": {},
   "source": [
    "**Bài tập 5.3:**"
   ]
  },
  {
   "cell_type": "code",
   "execution_count": 43,
   "metadata": {},
   "outputs": [
    {
     "name": "stdout",
     "output_type": "stream",
     "text": [
      "['hallway', 11.25, 'kitchen', 18.0, 'chill zone', 20.0, 'bedroom', 10.75, 'bathroom', 10.5, 'garage', 15.45]\n"
     ]
    }
   ],
   "source": [
    "# khởi tạo\n",
    "areas = [\"hallway\", 11.25, \"kitchen\", 18.0,\n",
    "        \"chill zone\", 20.0, \"bedroom\", 10.75,\n",
    "         \"bathroom\", 10.50, \"poolhouse\", 24.5,\n",
    "         \"garage\", 15.45]\n",
    "\n",
    "# xóa \"poolhouse\"\n",
    "# xóa diện tích của poolhouse\n",
    "del(areas[10:12])\n",
    "\n",
    "\n",
    "# in ra areas\n",
    "print(areas)\n"
   ]
  }
 ],
 "metadata": {
  "kernelspec": {
   "display_name": "Python 3",
   "language": "python",
   "name": "python3"
  },
  "language_info": {
   "codemirror_mode": {
    "name": "ipython",
    "version": 3
   },
   "file_extension": ".py",
   "mimetype": "text/x-python",
   "name": "python",
   "nbconvert_exporter": "python",
   "pygments_lexer": "ipython3",
   "version": "3.6.3"
  }
 },
 "nbformat": 4,
 "nbformat_minor": 2
}
